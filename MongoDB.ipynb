{
 "cells": [
  {
   "cell_type": "code",
   "execution_count": 1,
   "id": "129b89a1",
   "metadata": {},
   "outputs": [
    {
     "name": "stdout",
     "output_type": "stream",
     "text": [
      "Requirement already satisfied: pymongo in c:\\users\\bhaswatimayee.sahu\\anaconda3\\lib\\site-packages (3.12.0)\n"
     ]
    }
   ],
   "source": [
    "!python -m pip install pymongo"
   ]
  },
  {
   "cell_type": "markdown",
   "id": "e2e2c503",
   "metadata": {},
   "source": [
    "### Step 1: Create a DB"
   ]
  },
  {
   "cell_type": "code",
   "execution_count": 2,
   "id": "bcb56bab",
   "metadata": {},
   "outputs": [],
   "source": [
    "import pymongo"
   ]
  },
  {
   "cell_type": "code",
   "execution_count": 3,
   "id": "36a01c57",
   "metadata": {},
   "outputs": [],
   "source": [
    "DEFAULT_CONNECTION_URL=\"mongodb://localhost:27017/\"\n",
    "DB_NAME='ineuron'\n",
    "\n",
    "#establish a connection with mongodb\n",
    "client=pymongo.MongoClient(DEFAULT_CONNECTION_URL)\n",
    "\n",
    "#Create a DB\n",
    "database=client[DB_NAME]"
   ]
  },
  {
   "cell_type": "code",
   "execution_count": 4,
   "id": "f63bc274",
   "metadata": {},
   "outputs": [
    {
     "data": {
      "text/plain": [
       "['admin', 'config', 'demoDB', 'ineuron', 'local']"
      ]
     },
     "execution_count": 4,
     "metadata": {},
     "output_type": "execute_result"
    }
   ],
   "source": [
    "#lets see the number of databases available\n",
    "\n",
    "client.list_database_names()"
   ]
  },
  {
   "cell_type": "code",
   "execution_count": 5,
   "id": "303ab377",
   "metadata": {},
   "outputs": [
    {
     "name": "stdout",
     "output_type": "stream",
     "text": [
      "DB:'ineuron' exists.\n"
     ]
    }
   ],
   "source": [
    "#check if our database is present\n",
    "\n",
    "def checkExistance_DB(DB_NAME,client):\n",
    "    \n",
    "    DBlist=client.list_database_names()\n",
    "    \n",
    "    if DB_NAME in DBlist:\n",
    "        print(f\"DB:'{DB_NAME}' exists.\")\n",
    "        return True\n",
    "    print(f\"DB : '{DB_NAME}' is not present\")\n",
    "    return False\n",
    "\n",
    "_=checkExistance_DB(DB_NAME=DB_NAME,client=client)"
   ]
  },
  {
   "cell_type": "markdown",
   "id": "66aaa9c4",
   "metadata": {},
   "source": [
    "### Create a Collection"
   ]
  },
  {
   "cell_type": "code",
   "execution_count": 6,
   "id": "caf7574f",
   "metadata": {},
   "outputs": [
    {
     "data": {
      "text/plain": [
       "Collection(Database(MongoClient(host=['localhost:27017'], document_class=dict, tz_aware=False, connect=True), 'ineuron'), 'ineuron_products')"
      ]
     },
     "execution_count": 6,
     "metadata": {},
     "output_type": "execute_result"
    }
   ],
   "source": [
    "COLLECTION_NAME=\"ineuron_products\"\n",
    "collection=database[COLLECTION_NAME]\n",
    "collection"
   ]
  },
  {
   "cell_type": "code",
   "execution_count": 7,
   "id": "d15dfa19",
   "metadata": {},
   "outputs": [
    {
     "name": "stdout",
     "output_type": "stream",
     "text": [
      "collection:'ineuron_products' in database: 'ineuron' exists\n"
     ]
    }
   ],
   "source": [
    "def checkExistance_COL(COLLECTION_NAME,DB_NAME,db):\n",
    "    collection_list=db.list_collection_names()\n",
    "    \n",
    "    if COLLECTION_NAME in collection_list:\n",
    "        print(f\"collection:'{COLLECTION_NAME}' in database: '{DB_NAME}' exists\")\n",
    "        return True\n",
    "    print(f\"collection:'{COLLECTION_NAME}' in database: '{DB_NAME}' doesn't exist\")\n",
    "    return False\n",
    "\n",
    "_=checkExistance_COL(COLLECTION_NAME=COLLECTION_NAME, DB_NAME= DB_NAME, db=database)"
   ]
  },
  {
   "cell_type": "markdown",
   "id": "4d3368cc",
   "metadata": {},
   "source": [
    "### Insert a record in the collection"
   ]
  },
  {
   "cell_type": "code",
   "execution_count": 8,
   "id": "3c9a66c6",
   "metadata": {},
   "outputs": [
    {
     "data": {
      "text/plain": [
       "<pymongo.results.InsertOneResult at 0x78ecb28>"
      ]
     },
     "execution_count": 8,
     "metadata": {},
     "output_type": "execute_result"
    }
   ],
   "source": [
    "record={'companyname':'ineuron',\n",
    "       'product':'Affordable AI',\n",
    "       'courseoffered':'Deep learning for computer vision'}\n",
    "\n",
    "collection.insert_one(record)"
   ]
  },
  {
   "cell_type": "code",
   "execution_count": 9,
   "id": "9a1f5f76",
   "metadata": {},
   "outputs": [
    {
     "name": "stdout",
     "output_type": "stream",
     "text": [
      "collection:'ineuron_products' in database: 'ineuron' exists\n"
     ]
    }
   ],
   "source": [
    "_=checkExistance_COL(COLLECTION_NAME=COLLECTION_NAME, DB_NAME=DB_NAME, db=database)"
   ]
  },
  {
   "cell_type": "markdown",
   "id": "6b3714b0",
   "metadata": {},
   "source": [
    "### Insert multiple records"
   ]
  },
  {
   "cell_type": "code",
   "execution_count": 10,
   "id": "75868926",
   "metadata": {},
   "outputs": [
    {
     "data": {
      "text/plain": [
       "<pymongo.results.InsertManyResult at 0x7144468>"
      ]
     },
     "execution_count": 10,
     "metadata": {},
     "output_type": "execute_result"
    }
   ],
   "source": [
    "list_of_records=[{'companyname':'ineuron',\n",
    "       'product':'Affordable AI',\n",
    "       'courseoffered':'Deep learning for computer vision'},\n",
    "                {'companyname':'ineuron',\n",
    "       'product':'Affordable AI',\n",
    "       'courseoffered':'Deep learning for computer vision'},\n",
    "                {'companyname':'ineuron',\n",
    "       'product':'Affordable AI',\n",
    "       'courseoffered':'Deep learning for computer vision'}]\n",
    "\n",
    "rec=collection.insert_many(list_of_records)\n",
    "rec"
   ]
  },
  {
   "cell_type": "code",
   "execution_count": 11,
   "id": "db102084",
   "metadata": {},
   "outputs": [
    {
     "name": "stdout",
     "output_type": "stream",
     "text": [
      "0.611beda147d2e2be4bd41216\n",
      "1.611beda147d2e2be4bd41217\n",
      "2.611beda147d2e2be4bd41218\n"
     ]
    }
   ],
   "source": [
    "#lets priint the unique IDs of record that we have inserted\n",
    "\n",
    "inserted_IDs=rec.inserted_ids\n",
    "\n",
    "for idx,unique_ids in enumerate(inserted_IDs):\n",
    "    print(f\"{idx}.{unique_ids}\")"
   ]
  },
  {
   "cell_type": "code",
   "execution_count": 12,
   "id": "18d9ce01",
   "metadata": {},
   "outputs": [],
   "source": [
    "COLLECTION_NAME=\"ineuron faculties\"\n",
    "faculties=database[COLLECTION_NAME]"
   ]
  },
  {
   "cell_type": "code",
   "execution_count": 13,
   "id": "65cc1c22",
   "metadata": {},
   "outputs": [
    {
     "data": {
      "text/plain": [
       "<pymongo.results.InsertManyResult at 0x78fd048>"
      ]
     },
     "execution_count": 13,
     "metadata": {},
     "output_type": "execute_result"
    }
   ],
   "source": [
    "list_of_records_user_defined_ids=[{'_id':'1',\n",
    "       'company_name':'Ineuron',\n",
    "       'faculty':'xyz'},{'_id':'2',\n",
    "       'company_name':'Ineuron',\n",
    "       'faculty':'abc'}]\n",
    "\n",
    "faculties_rec=faculties.insert_many(list_of_records_user_defined_ids)\n",
    "faculties_rec"
   ]
  },
  {
   "cell_type": "markdown",
   "id": "3a6368ae",
   "metadata": {},
   "source": [
    "### Find Method in MongoDB"
   ]
  },
  {
   "cell_type": "code",
   "execution_count": 14,
   "id": "b9b6ad3a",
   "metadata": {},
   "outputs": [
    {
     "name": "stdout",
     "output_type": "stream",
     "text": [
      "The first record in the collection \n",
      "ineuron faculties is:      \n",
      "{'_id': '1', 'company_name': 'Ineuron', 'faculty': 'xyz'}\n"
     ]
    }
   ],
   "source": [
    "find_first_record=faculties.find_one()\n",
    "\n",
    "print(f\"The first record in the collection \\n{COLLECTION_NAME} is:\\\n",
    "      \\n{find_first_record}\")"
   ]
  },
  {
   "cell_type": "code",
   "execution_count": 15,
   "id": "b0b1d4df",
   "metadata": {},
   "outputs": [
    {
     "name": "stdout",
     "output_type": "stream",
     "text": [
      "{'_id': '1', 'company_name': 'Ineuron', 'faculty': 'xyz'}\n",
      "{'_id': '2', 'company_name': 'Ineuron', 'faculty': 'abc'}\n"
     ]
    }
   ],
   "source": [
    "#find all the records at once\n",
    "\n",
    "all_record=faculties.find()\n",
    "\n",
    "for x in all_record:\n",
    "    print(x)"
   ]
  },
  {
   "cell_type": "code",
   "execution_count": 16,
   "id": "89520e15",
   "metadata": {},
   "outputs": [
    {
     "name": "stdout",
     "output_type": "stream",
     "text": [
      "0:{'_id': '1', 'faculty': 'xyz'}\n",
      "1:{'_id': '2', 'faculty': 'abc'}\n"
     ]
    }
   ],
   "source": [
    "#find only for faculty\n",
    "\n",
    "all_record=faculties.find({},{'faculty'})\n",
    "\n",
    "for idx, record in enumerate(all_record):\n",
    "    print(f\"{idx}:{record}\")\n",
    "                            "
   ]
  },
  {
   "cell_type": "markdown",
   "id": "65e3f51a",
   "metadata": {},
   "source": [
    "### Query or filter out data  in mongodb"
   ]
  },
  {
   "cell_type": "code",
   "execution_count": 17,
   "id": "ae27b74e",
   "metadata": {},
   "outputs": [
    {
     "name": "stdout",
     "output_type": "stream",
     "text": [
      "{'_id': '1', 'company_name': 'Ineuron', 'faculty': 'xyz'}\n"
     ]
    }
   ],
   "source": [
    "query1={\"_id\":'1'}\n",
    "\n",
    "results=faculties.find(query1)\n",
    "\n",
    "for data in results:\n",
    "    print(data)"
   ]
  },
  {
   "cell_type": "code",
   "execution_count": 18,
   "id": "18c70614",
   "metadata": {},
   "outputs": [
    {
     "name": "stdout",
     "output_type": "stream",
     "text": [
      "{'_id': '2', 'company_name': 'Ineuron', 'faculty': 'abc'}\n"
     ]
    }
   ],
   "source": [
    "query2={\"_id\":{\"$gt\":\"1\"}}\n",
    "\n",
    "results=faculties.find(query2)\n",
    "\n",
    "for data in results:\n",
    "    print(data)"
   ]
  },
  {
   "cell_type": "markdown",
   "id": "8ebc33cd",
   "metadata": {},
   "source": [
    "### Delete one or many documents in MongoDB"
   ]
  },
  {
   "cell_type": "code",
   "execution_count": 19,
   "id": "3771a84b",
   "metadata": {},
   "outputs": [
    {
     "data": {
      "text/plain": [
       "<pymongo.results.InsertManyResult at 0x7147e88>"
      ]
     },
     "execution_count": 19,
     "metadata": {},
     "output_type": "execute_result"
    }
   ],
   "source": [
    "#we need to add some random data to faculties\n",
    "\n",
    "random_data=[\n",
    "{'_id':'3','company_name':'Ineuron','faculty':'pqr'},\n",
    "{'_id':'4','company_name':'Ineuron','faculty':'def'},\n",
    "{'_id':'5','company_name':'Ineuron','faculty':'ghi'}]\n",
    "\n",
    "faculties.insert_many(random_data)"
   ]
  },
  {
   "cell_type": "code",
   "execution_count": 20,
   "id": "4def611f",
   "metadata": {},
   "outputs": [
    {
     "data": {
      "text/plain": [
       "<pymongo.results.DeleteResult at 0x7903ec8>"
      ]
     },
     "execution_count": 20,
     "metadata": {},
     "output_type": "execute_result"
    }
   ],
   "source": [
    "query_to_delete={'faculty':'xyz'}\n",
    "\n",
    "faculties.delete_one(query_to_delete)"
   ]
  },
  {
   "cell_type": "code",
   "execution_count": 21,
   "id": "7b1a8cab",
   "metadata": {},
   "outputs": [
    {
     "data": {
      "text/plain": [
       "<pymongo.results.DeleteResult at 0x7903328>"
      ]
     },
     "execution_count": 21,
     "metadata": {},
     "output_type": "execute_result"
    }
   ],
   "source": [
    "#lets delete multiple records.\n",
    "\n",
    "multi_query_delete={'_id':{'$gte':'4'}}\n",
    "\n",
    "faculties.delete_many(multi_query_delete)"
   ]
  },
  {
   "cell_type": "code",
   "execution_count": 22,
   "id": "74aa0efe",
   "metadata": {},
   "outputs": [],
   "source": [
    "faculties.drop()"
   ]
  },
  {
   "cell_type": "code",
   "execution_count": 23,
   "id": "b9946114",
   "metadata": {},
   "outputs": [
    {
     "name": "stdout",
     "output_type": "stream",
     "text": [
      "collection:'ineuron faculties' in database: 'ineuron' doesn't exist\n"
     ]
    }
   ],
   "source": [
    "COLLECTION_NAME='ineuron faculties'\n",
    "DB_NAME='ineuron'\n",
    "\n",
    "_=checkExistance_COL(COLLECTION_NAME=COLLECTION_NAME, DB_NAME=DB_NAME, db=database)"
   ]
  },
  {
   "cell_type": "markdown",
   "id": "6c48418d",
   "metadata": {},
   "source": [
    "### Update"
   ]
  },
  {
   "cell_type": "code",
   "execution_count": 24,
   "id": "0a0d5122",
   "metadata": {},
   "outputs": [
    {
     "name": "stdout",
     "output_type": "stream",
     "text": [
      "{'_id': ObjectId('611554d4059d88c46b6c6fa2'), 'companyname': 'ineuron', 'product': 'Affordable Everything', 'courseoffered': 'ML and DL Deployment'}\n",
      "\n",
      "{'_id': ObjectId('6115e10f059d88c46b6c6fa3'), 'companyname': 'ineuron', 'product': 'Affordable Everything', 'courseoffered': 'ML and DL Deployment'}\n",
      "\n",
      "{'_id': ObjectId('6115e10f059d88c46b6c6fa4'), 'companyname': 'ineuron', 'product': 'Affordable Everything', 'courseoffered': 'Deep learning for computer vision'}\n",
      "\n",
      "{'_id': ObjectId('6115e10f059d88c46b6c6fa5'), 'companyname': 'ineuron', 'product': 'Affordable Everything', 'courseoffered': 'Deep learning for computer vision'}\n",
      "\n",
      "{'_id': ObjectId('6115e115059d88c46b6c6fa6'), 'companyname': 'ineuron', 'product': 'Affordable Everything', 'courseoffered': 'Deep learning for computer vision'}\n",
      "\n",
      "{'_id': ObjectId('6115e115059d88c46b6c6fa7'), 'companyname': 'ineuron', 'product': 'Affordable Everything', 'courseoffered': 'Deep learning for computer vision'}\n",
      "\n",
      "{'_id': ObjectId('6115e115059d88c46b6c6fa8'), 'companyname': 'ineuron', 'product': 'Affordable Everything', 'courseoffered': 'Deep learning for computer vision'}\n",
      "\n",
      "{'_id': ObjectId('611601bf61092edd7a9439a9'), 'companyname': 'ineuron', 'product': 'Affordable Everything', 'courseoffered': 'Deep learning for computer vision'}\n",
      "\n",
      "{'_id': ObjectId('611601bf61092edd7a9439aa'), 'companyname': 'ineuron', 'product': 'Affordable Everything', 'courseoffered': 'Deep learning for computer vision'}\n",
      "\n",
      "{'_id': ObjectId('611601bf61092edd7a9439ab'), 'companyname': 'ineuron', 'product': 'Affordable Everything', 'courseoffered': 'Deep learning for computer vision'}\n",
      "\n",
      "{'_id': ObjectId('611601bf61092edd7a9439ac'), 'companyname': 'ineuron', 'product': 'Affordable Everything', 'courseoffered': 'Deep learning for computer vision'}\n",
      "\n",
      "{'_id': ObjectId('61161a1f54c358d0032ee567'), 'companyname': 'ineuron', 'product': 'Affordable Everything', 'courseoffered': 'Deep learning for computer vision'}\n",
      "\n",
      "{'_id': ObjectId('61161a1f54c358d0032ee568'), 'companyname': 'ineuron', 'product': 'Affordable Everything', 'courseoffered': 'Deep learning for computer vision'}\n",
      "\n",
      "{'_id': ObjectId('61161a1f54c358d0032ee569'), 'companyname': 'ineuron', 'product': 'Affordable Everything', 'courseoffered': 'Deep learning for computer vision'}\n",
      "\n",
      "{'_id': ObjectId('61161a1f54c358d0032ee56a'), 'companyname': 'ineuron', 'product': 'Affordable Everything', 'courseoffered': 'Deep learning for computer vision'}\n",
      "\n",
      "{'_id': ObjectId('6116205f54c358d0032ee56e'), 'companyname': 'ineuron', 'product': 'Affordable Everything', 'courseoffered': 'Deep learning for computer vision'}\n",
      "\n",
      "{'_id': ObjectId('6116206754c358d0032ee56f'), 'companyname': 'ineuron', 'product': 'Affordable Everything', 'courseoffered': 'Deep learning for computer vision'}\n",
      "\n",
      "{'_id': ObjectId('6116206754c358d0032ee570'), 'companyname': 'ineuron', 'product': 'Affordable Everything', 'courseoffered': 'Deep learning for computer vision'}\n",
      "\n",
      "{'_id': ObjectId('6116206754c358d0032ee571'), 'companyname': 'ineuron', 'product': 'Affordable Everything', 'courseoffered': 'Deep learning for computer vision'}\n",
      "\n",
      "{'_id': ObjectId('611b6ab7c134fd3c3d5719bf'), 'companyname': 'ineuron', 'product': 'Affordable Everything', 'courseoffered': 'Deep learning for computer vision'}\n",
      "\n",
      "{'_id': ObjectId('611b6ab7c134fd3c3d5719c0'), 'companyname': 'ineuron', 'product': 'Affordable Everything', 'courseoffered': 'Deep learning for computer vision'}\n",
      "\n",
      "{'_id': ObjectId('611b6ab7c134fd3c3d5719c1'), 'companyname': 'ineuron', 'product': 'Affordable Everything', 'courseoffered': 'Deep learning for computer vision'}\n",
      "\n",
      "{'_id': ObjectId('611b6ab7c134fd3c3d5719c2'), 'companyname': 'ineuron', 'product': 'Affordable Everything', 'courseoffered': 'Deep learning for computer vision'}\n",
      "\n",
      "{'_id': ObjectId('611baf37174816e77a57d4e9'), 'companyname': 'ineuron', 'product': 'Affordable Everything', 'courseoffered': 'Deep learning for computer vision'}\n",
      "\n",
      "{'_id': ObjectId('611baf37174816e77a57d4ea'), 'companyname': 'ineuron', 'product': 'Affordable Everything', 'courseoffered': 'Deep learning for computer vision'}\n",
      "\n",
      "{'_id': ObjectId('611baf37174816e77a57d4eb'), 'companyname': 'ineuron', 'product': 'Affordable Everything', 'courseoffered': 'Deep learning for computer vision'}\n",
      "\n",
      "{'_id': ObjectId('611baf37174816e77a57d4ec'), 'companyname': 'ineuron', 'product': 'Affordable Everything', 'courseoffered': 'Deep learning for computer vision'}\n",
      "\n",
      "{'_id': ObjectId('611beda147d2e2be4bd41215'), 'companyname': 'ineuron', 'product': 'Affordable AI', 'courseoffered': 'Deep learning for computer vision'}\n",
      "\n",
      "{'_id': ObjectId('611beda147d2e2be4bd41216'), 'companyname': 'ineuron', 'product': 'Affordable AI', 'courseoffered': 'Deep learning for computer vision'}\n",
      "\n",
      "{'_id': ObjectId('611beda147d2e2be4bd41217'), 'companyname': 'ineuron', 'product': 'Affordable AI', 'courseoffered': 'Deep learning for computer vision'}\n",
      "\n",
      "{'_id': ObjectId('611beda147d2e2be4bd41218'), 'companyname': 'ineuron', 'product': 'Affordable AI', 'courseoffered': 'Deep learning for computer vision'}\n",
      "\n"
     ]
    }
   ],
   "source": [
    "COLLECTION_NAME='ineuron_products'\n",
    "products=database[COLLECTION_NAME]\n",
    "\n",
    "all_record=products.find()\n",
    "for idx, record in enumerate(all_record):\n",
    "    print(f\"{record}\\n\")"
   ]
  },
  {
   "cell_type": "code",
   "execution_count": 25,
   "id": "4575a342",
   "metadata": {},
   "outputs": [],
   "source": [
    "present_data={'courseoffered':'Deep learning for computer vision'}\n",
    "new_data={\"$set\":{'courseoffered':'ML and DL Deployment'}}"
   ]
  },
  {
   "cell_type": "code",
   "execution_count": 26,
   "id": "d827287e",
   "metadata": {},
   "outputs": [
    {
     "data": {
      "text/plain": [
       "<pymongo.results.UpdateResult at 0x78ed908>"
      ]
     },
     "execution_count": 26,
     "metadata": {},
     "output_type": "execute_result"
    }
   ],
   "source": [
    "products.update_one(present_data,new_data)"
   ]
  },
  {
   "cell_type": "code",
   "execution_count": 27,
   "id": "136dce6a",
   "metadata": {},
   "outputs": [],
   "source": [
    "present_data={'product':'Affordable AI'}\n",
    "new_data={'$set':{'product':'Affordable Everything'}}"
   ]
  },
  {
   "cell_type": "code",
   "execution_count": 28,
   "id": "dd3429d2",
   "metadata": {},
   "outputs": [
    {
     "data": {
      "text/plain": [
       "<pymongo.results.UpdateResult at 0x78ed588>"
      ]
     },
     "execution_count": 28,
     "metadata": {},
     "output_type": "execute_result"
    }
   ],
   "source": [
    "products.update_many(present_data,new_data)"
   ]
  },
  {
   "cell_type": "markdown",
   "id": "b3be9b3c",
   "metadata": {},
   "source": [
    "#### Set Limit to View N_records"
   ]
  },
  {
   "cell_type": "code",
   "execution_count": 29,
   "id": "20b1f41f",
   "metadata": {},
   "outputs": [
    {
     "name": "stdout",
     "output_type": "stream",
     "text": [
      "{'_id': ObjectId('611554d4059d88c46b6c6fa2'), 'companyname': 'ineuron', 'product': 'Affordable Everything', 'courseoffered': 'ML and DL Deployment'}\n",
      "\n",
      "{'_id': ObjectId('6115e10f059d88c46b6c6fa3'), 'companyname': 'ineuron', 'product': 'Affordable Everything', 'courseoffered': 'ML and DL Deployment'}\n",
      "\n",
      "{'_id': ObjectId('6115e10f059d88c46b6c6fa4'), 'companyname': 'ineuron', 'product': 'Affordable Everything', 'courseoffered': 'ML and DL Deployment'}\n",
      "\n"
     ]
    }
   ],
   "source": [
    "N_records=3\n",
    "\n",
    "N_record=products.find().limit(N_records)\n",
    "\n",
    "for idx, record in enumerate(N_record):\n",
    "    print(f\"{record}\\n\")"
   ]
  },
  {
   "cell_type": "code",
   "execution_count": 30,
   "id": "2ba3cb05",
   "metadata": {},
   "outputs": [],
   "source": [
    "#https://account.mongodb.com/account/login"
   ]
  },
  {
   "cell_type": "markdown",
   "id": "433e7682",
   "metadata": {},
   "source": [
    "#sample\n",
    "\n",
    "client = pymongo.MongoClient(\"mongodb+srv://bhaswati:<password>@cluster0.c8ky6.mongodb.net/myFirstDatabase?retryWrites=true&w=majority\")\n",
    "db = client.test\n",
    "\n"
   ]
  },
  {
   "cell_type": "code",
   "execution_count": 35,
   "id": "8a120e58",
   "metadata": {},
   "outputs": [],
   "source": [
    "import pymongo\n",
    "\n",
    "client = pymongo.MongoClient(\"mongodb+srv://bhaswati:12345>@cluster0.c8ky6.mongodb.net/test?retryWrites=true&w=majority\")\n",
    "db = client.test"
   ]
  },
  {
   "cell_type": "code",
   "execution_count": 36,
   "id": "4ea79b79",
   "metadata": {},
   "outputs": [
    {
     "data": {
      "text/plain": [
       "MongoClient(host=['cluster0-shard-00-02.c8ky6.mongodb.net:27017', 'cluster0-shard-00-00.c8ky6.mongodb.net:27017', 'cluster0-shard-00-01.c8ky6.mongodb.net:27017'], document_class=dict, tz_aware=False, connect=True, retrywrites=True, w='majority', authsource='admin', replicaset='atlas-guykgu-shard-0', ssl=True)"
      ]
     },
     "execution_count": 36,
     "metadata": {},
     "output_type": "execute_result"
    }
   ],
   "source": [
    "client"
   ]
  },
  {
   "cell_type": "code",
   "execution_count": 39,
   "id": "17da11ba",
   "metadata": {},
   "outputs": [
    {
     "ename": "ServerSelectionTimeoutError",
     "evalue": "connection closed,cluster0-shard-00-00.c8ky6.mongodb.net:27017: [WinError 10054] An existing connection was forcibly closed by the remote host,cluster0-shard-00-01.c8ky6.mongodb.net:27017: [WinError 10054] An existing connection was forcibly closed by the remote host, Timeout: 30s, Topology Description: <TopologyDescription id: 611bf3e647d2e2be4bd4123a, topology_type: ReplicaSetNoPrimary, servers: [<ServerDescription ('cluster0-shard-00-00.c8ky6.mongodb.net', 27017) server_type: Unknown, rtt: None, error=AutoReconnect('cluster0-shard-00-00.c8ky6.mongodb.net:27017: [WinError 10054] An existing connection was forcibly closed by the remote host')>, <ServerDescription ('cluster0-shard-00-01.c8ky6.mongodb.net', 27017) server_type: Unknown, rtt: None, error=AutoReconnect('cluster0-shard-00-01.c8ky6.mongodb.net:27017: [WinError 10054] An existing connection was forcibly closed by the remote host')>, <ServerDescription ('cluster0-shard-00-02.c8ky6.mongodb.net', 27017) server_type: Unknown, rtt: None, error=AutoReconnect('connection closed')>]>",
     "output_type": "error",
     "traceback": [
      "\u001b[1;31m---------------------------------------------------------------------------\u001b[0m",
      "\u001b[1;31mServerSelectionTimeoutError\u001b[0m               Traceback (most recent call last)",
      "\u001b[1;32m<ipython-input-39-8628200eec0b>\u001b[0m in \u001b[0;36m<module>\u001b[1;34m\u001b[0m\n\u001b[0;32m     40\u001b[0m ]\n\u001b[0;32m     41\u001b[0m \u001b[1;33m\u001b[0m\u001b[0m\n\u001b[1;32m---> 42\u001b[1;33m \u001b[0mrec\u001b[0m\u001b[1;33m=\u001b[0m\u001b[0mcollection\u001b[0m\u001b[1;33m.\u001b[0m\u001b[0minsert_many\u001b[0m\u001b[1;33m(\u001b[0m\u001b[0mlist_of_records\u001b[0m\u001b[1;33m)\u001b[0m\u001b[1;33m\u001b[0m\u001b[1;33m\u001b[0m\u001b[0m\n\u001b[0m\u001b[0;32m     43\u001b[0m \u001b[1;33m\u001b[0m\u001b[0m\n\u001b[0;32m     44\u001b[0m \u001b[0mall_record\u001b[0m\u001b[1;33m=\u001b[0m\u001b[0mcollection\u001b[0m\u001b[1;33m.\u001b[0m\u001b[0mfind\u001b[0m\u001b[1;33m(\u001b[0m\u001b[1;33m)\u001b[0m\u001b[1;33m\u001b[0m\u001b[1;33m\u001b[0m\u001b[0m\n",
      "\u001b[1;32m~\\Anaconda3\\lib\\site-packages\\pymongo\\collection.py\u001b[0m in \u001b[0;36minsert_many\u001b[1;34m(self, documents, ordered, bypass_document_validation, session)\u001b[0m\n\u001b[0;32m    768\u001b[0m         \u001b[0mblk\u001b[0m \u001b[1;33m=\u001b[0m \u001b[0m_Bulk\u001b[0m\u001b[1;33m(\u001b[0m\u001b[0mself\u001b[0m\u001b[1;33m,\u001b[0m \u001b[0mordered\u001b[0m\u001b[1;33m,\u001b[0m \u001b[0mbypass_document_validation\u001b[0m\u001b[1;33m)\u001b[0m\u001b[1;33m\u001b[0m\u001b[1;33m\u001b[0m\u001b[0m\n\u001b[0;32m    769\u001b[0m         \u001b[0mblk\u001b[0m\u001b[1;33m.\u001b[0m\u001b[0mops\u001b[0m \u001b[1;33m=\u001b[0m \u001b[1;33m[\u001b[0m\u001b[0mdoc\u001b[0m \u001b[1;32mfor\u001b[0m \u001b[0mdoc\u001b[0m \u001b[1;32min\u001b[0m \u001b[0mgen\u001b[0m\u001b[1;33m(\u001b[0m\u001b[1;33m)\u001b[0m\u001b[1;33m]\u001b[0m\u001b[1;33m\u001b[0m\u001b[1;33m\u001b[0m\u001b[0m\n\u001b[1;32m--> 770\u001b[1;33m         \u001b[0mblk\u001b[0m\u001b[1;33m.\u001b[0m\u001b[0mexecute\u001b[0m\u001b[1;33m(\u001b[0m\u001b[0mwrite_concern\u001b[0m\u001b[1;33m,\u001b[0m \u001b[0msession\u001b[0m\u001b[1;33m=\u001b[0m\u001b[0msession\u001b[0m\u001b[1;33m)\u001b[0m\u001b[1;33m\u001b[0m\u001b[1;33m\u001b[0m\u001b[0m\n\u001b[0m\u001b[0;32m    771\u001b[0m         \u001b[1;32mreturn\u001b[0m \u001b[0mInsertManyResult\u001b[0m\u001b[1;33m(\u001b[0m\u001b[0minserted_ids\u001b[0m\u001b[1;33m,\u001b[0m \u001b[0mwrite_concern\u001b[0m\u001b[1;33m.\u001b[0m\u001b[0macknowledged\u001b[0m\u001b[1;33m)\u001b[0m\u001b[1;33m\u001b[0m\u001b[1;33m\u001b[0m\u001b[0m\n\u001b[0;32m    772\u001b[0m \u001b[1;33m\u001b[0m\u001b[0m\n",
      "\u001b[1;32m~\\Anaconda3\\lib\\site-packages\\pymongo\\bulk.py\u001b[0m in \u001b[0;36mexecute\u001b[1;34m(self, write_concern, session)\u001b[0m\n\u001b[0;32m    527\u001b[0m                 \u001b[0mself\u001b[0m\u001b[1;33m.\u001b[0m\u001b[0mexecute_no_results\u001b[0m\u001b[1;33m(\u001b[0m\u001b[0msock_info\u001b[0m\u001b[1;33m,\u001b[0m \u001b[0mgenerator\u001b[0m\u001b[1;33m)\u001b[0m\u001b[1;33m\u001b[0m\u001b[1;33m\u001b[0m\u001b[0m\n\u001b[0;32m    528\u001b[0m         \u001b[1;32melse\u001b[0m\u001b[1;33m:\u001b[0m\u001b[1;33m\u001b[0m\u001b[1;33m\u001b[0m\u001b[0m\n\u001b[1;32m--> 529\u001b[1;33m             \u001b[1;32mreturn\u001b[0m \u001b[0mself\u001b[0m\u001b[1;33m.\u001b[0m\u001b[0mexecute_command\u001b[0m\u001b[1;33m(\u001b[0m\u001b[0mgenerator\u001b[0m\u001b[1;33m,\u001b[0m \u001b[0mwrite_concern\u001b[0m\u001b[1;33m,\u001b[0m \u001b[0msession\u001b[0m\u001b[1;33m)\u001b[0m\u001b[1;33m\u001b[0m\u001b[1;33m\u001b[0m\u001b[0m\n\u001b[0m\u001b[0;32m    530\u001b[0m \u001b[1;33m\u001b[0m\u001b[0m\n\u001b[0;32m    531\u001b[0m \u001b[1;33m\u001b[0m\u001b[0m\n",
      "\u001b[1;32m~\\Anaconda3\\lib\\site-packages\\pymongo\\bulk.py\u001b[0m in \u001b[0;36mexecute_command\u001b[1;34m(self, generator, write_concern, session)\u001b[0m\n\u001b[0;32m    357\u001b[0m \u001b[1;33m\u001b[0m\u001b[0m\n\u001b[0;32m    358\u001b[0m         \u001b[0mclient\u001b[0m \u001b[1;33m=\u001b[0m \u001b[0mself\u001b[0m\u001b[1;33m.\u001b[0m\u001b[0mcollection\u001b[0m\u001b[1;33m.\u001b[0m\u001b[0mdatabase\u001b[0m\u001b[1;33m.\u001b[0m\u001b[0mclient\u001b[0m\u001b[1;33m\u001b[0m\u001b[1;33m\u001b[0m\u001b[0m\n\u001b[1;32m--> 359\u001b[1;33m         \u001b[1;32mwith\u001b[0m \u001b[0mclient\u001b[0m\u001b[1;33m.\u001b[0m\u001b[0m_tmp_session\u001b[0m\u001b[1;33m(\u001b[0m\u001b[0msession\u001b[0m\u001b[1;33m)\u001b[0m \u001b[1;32mas\u001b[0m \u001b[0ms\u001b[0m\u001b[1;33m:\u001b[0m\u001b[1;33m\u001b[0m\u001b[1;33m\u001b[0m\u001b[0m\n\u001b[0m\u001b[0;32m    360\u001b[0m             client._retry_with_session(\n\u001b[0;32m    361\u001b[0m                 self.is_retryable, retryable_bulk, s, self)\n",
      "\u001b[1;32m~\\Anaconda3\\lib\\contextlib.py\u001b[0m in \u001b[0;36m__enter__\u001b[1;34m(self)\u001b[0m\n\u001b[0;32m    111\u001b[0m         \u001b[1;32mdel\u001b[0m \u001b[0mself\u001b[0m\u001b[1;33m.\u001b[0m\u001b[0margs\u001b[0m\u001b[1;33m,\u001b[0m \u001b[0mself\u001b[0m\u001b[1;33m.\u001b[0m\u001b[0mkwds\u001b[0m\u001b[1;33m,\u001b[0m \u001b[0mself\u001b[0m\u001b[1;33m.\u001b[0m\u001b[0mfunc\u001b[0m\u001b[1;33m\u001b[0m\u001b[1;33m\u001b[0m\u001b[0m\n\u001b[0;32m    112\u001b[0m         \u001b[1;32mtry\u001b[0m\u001b[1;33m:\u001b[0m\u001b[1;33m\u001b[0m\u001b[1;33m\u001b[0m\u001b[0m\n\u001b[1;32m--> 113\u001b[1;33m             \u001b[1;32mreturn\u001b[0m \u001b[0mnext\u001b[0m\u001b[1;33m(\u001b[0m\u001b[0mself\u001b[0m\u001b[1;33m.\u001b[0m\u001b[0mgen\u001b[0m\u001b[1;33m)\u001b[0m\u001b[1;33m\u001b[0m\u001b[1;33m\u001b[0m\u001b[0m\n\u001b[0m\u001b[0;32m    114\u001b[0m         \u001b[1;32mexcept\u001b[0m \u001b[0mStopIteration\u001b[0m\u001b[1;33m:\u001b[0m\u001b[1;33m\u001b[0m\u001b[1;33m\u001b[0m\u001b[0m\n\u001b[0;32m    115\u001b[0m             \u001b[1;32mraise\u001b[0m \u001b[0mRuntimeError\u001b[0m\u001b[1;33m(\u001b[0m\u001b[1;34m\"generator didn't yield\"\u001b[0m\u001b[1;33m)\u001b[0m \u001b[1;32mfrom\u001b[0m \u001b[1;32mNone\u001b[0m\u001b[1;33m\u001b[0m\u001b[1;33m\u001b[0m\u001b[0m\n",
      "\u001b[1;32m~\\Anaconda3\\lib\\site-packages\\pymongo\\mongo_client.py\u001b[0m in \u001b[0;36m_tmp_session\u001b[1;34m(self, session, close)\u001b[0m\n\u001b[0;32m   1946\u001b[0m             \u001b[1;32mreturn\u001b[0m\u001b[1;33m\u001b[0m\u001b[1;33m\u001b[0m\u001b[0m\n\u001b[0;32m   1947\u001b[0m \u001b[1;33m\u001b[0m\u001b[0m\n\u001b[1;32m-> 1948\u001b[1;33m         \u001b[0ms\u001b[0m \u001b[1;33m=\u001b[0m \u001b[0mself\u001b[0m\u001b[1;33m.\u001b[0m\u001b[0m_ensure_session\u001b[0m\u001b[1;33m(\u001b[0m\u001b[0msession\u001b[0m\u001b[1;33m)\u001b[0m\u001b[1;33m\u001b[0m\u001b[1;33m\u001b[0m\u001b[0m\n\u001b[0m\u001b[0;32m   1949\u001b[0m         \u001b[1;32mif\u001b[0m \u001b[0ms\u001b[0m\u001b[1;33m:\u001b[0m\u001b[1;33m\u001b[0m\u001b[1;33m\u001b[0m\u001b[0m\n\u001b[0;32m   1950\u001b[0m             \u001b[1;32mtry\u001b[0m\u001b[1;33m:\u001b[0m\u001b[1;33m\u001b[0m\u001b[1;33m\u001b[0m\u001b[0m\n",
      "\u001b[1;32m~\\Anaconda3\\lib\\site-packages\\pymongo\\mongo_client.py\u001b[0m in \u001b[0;36m_ensure_session\u001b[1;34m(self, session)\u001b[0m\n\u001b[0;32m   1933\u001b[0m             \u001b[1;31m# Don't make implicit sessions causally consistent. Applications\u001b[0m\u001b[1;33m\u001b[0m\u001b[1;33m\u001b[0m\u001b[1;33m\u001b[0m\u001b[0m\n\u001b[0;32m   1934\u001b[0m             \u001b[1;31m# should always opt-in.\u001b[0m\u001b[1;33m\u001b[0m\u001b[1;33m\u001b[0m\u001b[1;33m\u001b[0m\u001b[0m\n\u001b[1;32m-> 1935\u001b[1;33m             \u001b[1;32mreturn\u001b[0m \u001b[0mself\u001b[0m\u001b[1;33m.\u001b[0m\u001b[0m__start_session\u001b[0m\u001b[1;33m(\u001b[0m\u001b[1;32mTrue\u001b[0m\u001b[1;33m,\u001b[0m \u001b[0mcausal_consistency\u001b[0m\u001b[1;33m=\u001b[0m\u001b[1;32mFalse\u001b[0m\u001b[1;33m)\u001b[0m\u001b[1;33m\u001b[0m\u001b[1;33m\u001b[0m\u001b[0m\n\u001b[0m\u001b[0;32m   1936\u001b[0m         \u001b[1;32mexcept\u001b[0m \u001b[1;33m(\u001b[0m\u001b[0mConfigurationError\u001b[0m\u001b[1;33m,\u001b[0m \u001b[0mInvalidOperation\u001b[0m\u001b[1;33m)\u001b[0m\u001b[1;33m:\u001b[0m\u001b[1;33m\u001b[0m\u001b[1;33m\u001b[0m\u001b[0m\n\u001b[0;32m   1937\u001b[0m             \u001b[1;31m# Sessions not supported, or multiple users authenticated.\u001b[0m\u001b[1;33m\u001b[0m\u001b[1;33m\u001b[0m\u001b[1;33m\u001b[0m\u001b[0m\n",
      "\u001b[1;32m~\\Anaconda3\\lib\\site-packages\\pymongo\\mongo_client.py\u001b[0m in \u001b[0;36m__start_session\u001b[1;34m(self, implicit, **kwargs)\u001b[0m\n\u001b[0;32m   1881\u001b[0m \u001b[1;33m\u001b[0m\u001b[0m\n\u001b[0;32m   1882\u001b[0m         \u001b[1;31m# Raises ConfigurationError if sessions are not supported.\u001b[0m\u001b[1;33m\u001b[0m\u001b[1;33m\u001b[0m\u001b[1;33m\u001b[0m\u001b[0m\n\u001b[1;32m-> 1883\u001b[1;33m         \u001b[0mserver_session\u001b[0m \u001b[1;33m=\u001b[0m \u001b[0mself\u001b[0m\u001b[1;33m.\u001b[0m\u001b[0m_get_server_session\u001b[0m\u001b[1;33m(\u001b[0m\u001b[1;33m)\u001b[0m\u001b[1;33m\u001b[0m\u001b[1;33m\u001b[0m\u001b[0m\n\u001b[0m\u001b[0;32m   1884\u001b[0m         \u001b[0mopts\u001b[0m \u001b[1;33m=\u001b[0m \u001b[0mclient_session\u001b[0m\u001b[1;33m.\u001b[0m\u001b[0mSessionOptions\u001b[0m\u001b[1;33m(\u001b[0m\u001b[1;33m**\u001b[0m\u001b[0mkwargs\u001b[0m\u001b[1;33m)\u001b[0m\u001b[1;33m\u001b[0m\u001b[1;33m\u001b[0m\u001b[0m\n\u001b[0;32m   1885\u001b[0m         return client_session.ClientSession(\n",
      "\u001b[1;32m~\\Anaconda3\\lib\\site-packages\\pymongo\\mongo_client.py\u001b[0m in \u001b[0;36m_get_server_session\u001b[1;34m(self)\u001b[0m\n\u001b[0;32m   1919\u001b[0m     \u001b[1;32mdef\u001b[0m \u001b[0m_get_server_session\u001b[0m\u001b[1;33m(\u001b[0m\u001b[0mself\u001b[0m\u001b[1;33m)\u001b[0m\u001b[1;33m:\u001b[0m\u001b[1;33m\u001b[0m\u001b[1;33m\u001b[0m\u001b[0m\n\u001b[0;32m   1920\u001b[0m         \u001b[1;34m\"\"\"Internal: start or resume a _ServerSession.\"\"\"\u001b[0m\u001b[1;33m\u001b[0m\u001b[1;33m\u001b[0m\u001b[0m\n\u001b[1;32m-> 1921\u001b[1;33m         \u001b[1;32mreturn\u001b[0m \u001b[0mself\u001b[0m\u001b[1;33m.\u001b[0m\u001b[0m_topology\u001b[0m\u001b[1;33m.\u001b[0m\u001b[0mget_server_session\u001b[0m\u001b[1;33m(\u001b[0m\u001b[1;33m)\u001b[0m\u001b[1;33m\u001b[0m\u001b[1;33m\u001b[0m\u001b[0m\n\u001b[0m\u001b[0;32m   1922\u001b[0m \u001b[1;33m\u001b[0m\u001b[0m\n\u001b[0;32m   1923\u001b[0m     \u001b[1;32mdef\u001b[0m \u001b[0m_return_server_session\u001b[0m\u001b[1;33m(\u001b[0m\u001b[0mself\u001b[0m\u001b[1;33m,\u001b[0m \u001b[0mserver_session\u001b[0m\u001b[1;33m,\u001b[0m \u001b[0mlock\u001b[0m\u001b[1;33m)\u001b[0m\u001b[1;33m:\u001b[0m\u001b[1;33m\u001b[0m\u001b[1;33m\u001b[0m\u001b[0m\n",
      "\u001b[1;32m~\\Anaconda3\\lib\\site-packages\\pymongo\\topology.py\u001b[0m in \u001b[0;36mget_server_session\u001b[1;34m(self)\u001b[0m\n\u001b[0;32m    518\u001b[0m             \u001b[1;31m# Sessions are always supported in load balanced mode.\u001b[0m\u001b[1;33m\u001b[0m\u001b[1;33m\u001b[0m\u001b[1;33m\u001b[0m\u001b[0m\n\u001b[0;32m    519\u001b[0m             \u001b[1;32mif\u001b[0m \u001b[1;32mnot\u001b[0m \u001b[0mself\u001b[0m\u001b[1;33m.\u001b[0m\u001b[0m_settings\u001b[0m\u001b[1;33m.\u001b[0m\u001b[0mload_balanced\u001b[0m\u001b[1;33m:\u001b[0m\u001b[1;33m\u001b[0m\u001b[1;33m\u001b[0m\u001b[0m\n\u001b[1;32m--> 520\u001b[1;33m                 \u001b[0msession_timeout\u001b[0m \u001b[1;33m=\u001b[0m \u001b[0mself\u001b[0m\u001b[1;33m.\u001b[0m\u001b[0m_check_session_support\u001b[0m\u001b[1;33m(\u001b[0m\u001b[1;33m)\u001b[0m\u001b[1;33m\u001b[0m\u001b[1;33m\u001b[0m\u001b[0m\n\u001b[0m\u001b[0;32m    521\u001b[0m             \u001b[1;32melse\u001b[0m\u001b[1;33m:\u001b[0m\u001b[1;33m\u001b[0m\u001b[1;33m\u001b[0m\u001b[0m\n\u001b[0;32m    522\u001b[0m                 \u001b[1;31m# Sessions never time out in load balanced mode.\u001b[0m\u001b[1;33m\u001b[0m\u001b[1;33m\u001b[0m\u001b[1;33m\u001b[0m\u001b[0m\n",
      "\u001b[1;32m~\\Anaconda3\\lib\\site-packages\\pymongo\\topology.py\u001b[0m in \u001b[0;36m_check_session_support\u001b[1;34m(self)\u001b[0m\n\u001b[0;32m    502\u001b[0m                         None)\n\u001b[0;32m    503\u001b[0m             \u001b[1;32melif\u001b[0m \u001b[1;32mnot\u001b[0m \u001b[0mself\u001b[0m\u001b[1;33m.\u001b[0m\u001b[0m_description\u001b[0m\u001b[1;33m.\u001b[0m\u001b[0mreadable_servers\u001b[0m\u001b[1;33m:\u001b[0m\u001b[1;33m\u001b[0m\u001b[1;33m\u001b[0m\u001b[0m\n\u001b[1;32m--> 504\u001b[1;33m                 self._select_servers_loop(\n\u001b[0m\u001b[0;32m    505\u001b[0m                     \u001b[0mreadable_server_selector\u001b[0m\u001b[1;33m,\u001b[0m\u001b[1;33m\u001b[0m\u001b[1;33m\u001b[0m\u001b[0m\n\u001b[0;32m    506\u001b[0m                     \u001b[0mself\u001b[0m\u001b[1;33m.\u001b[0m\u001b[0m_settings\u001b[0m\u001b[1;33m.\u001b[0m\u001b[0mserver_selection_timeout\u001b[0m\u001b[1;33m,\u001b[0m\u001b[1;33m\u001b[0m\u001b[1;33m\u001b[0m\u001b[0m\n",
      "\u001b[1;32m~\\Anaconda3\\lib\\site-packages\\pymongo\\topology.py\u001b[0m in \u001b[0;36m_select_servers_loop\u001b[1;34m(self, selector, timeout, address)\u001b[0m\n\u001b[0;32m    216\u001b[0m             \u001b[1;31m# No suitable servers.\u001b[0m\u001b[1;33m\u001b[0m\u001b[1;33m\u001b[0m\u001b[1;33m\u001b[0m\u001b[0m\n\u001b[0;32m    217\u001b[0m             \u001b[1;32mif\u001b[0m \u001b[0mtimeout\u001b[0m \u001b[1;33m==\u001b[0m \u001b[1;36m0\u001b[0m \u001b[1;32mor\u001b[0m \u001b[0mnow\u001b[0m \u001b[1;33m>\u001b[0m \u001b[0mend_time\u001b[0m\u001b[1;33m:\u001b[0m\u001b[1;33m\u001b[0m\u001b[1;33m\u001b[0m\u001b[0m\n\u001b[1;32m--> 218\u001b[1;33m                 raise ServerSelectionTimeoutError(\n\u001b[0m\u001b[0;32m    219\u001b[0m                     \u001b[1;34m\"%s, Timeout: %ss, Topology Description: %r\"\u001b[0m \u001b[1;33m%\u001b[0m\u001b[1;33m\u001b[0m\u001b[1;33m\u001b[0m\u001b[0m\n\u001b[0;32m    220\u001b[0m                     (self._error_message(selector), timeout, self.description))\n",
      "\u001b[1;31mServerSelectionTimeoutError\u001b[0m: connection closed,cluster0-shard-00-00.c8ky6.mongodb.net:27017: [WinError 10054] An existing connection was forcibly closed by the remote host,cluster0-shard-00-01.c8ky6.mongodb.net:27017: [WinError 10054] An existing connection was forcibly closed by the remote host, Timeout: 30s, Topology Description: <TopologyDescription id: 611bf3e647d2e2be4bd4123a, topology_type: ReplicaSetNoPrimary, servers: [<ServerDescription ('cluster0-shard-00-00.c8ky6.mongodb.net', 27017) server_type: Unknown, rtt: None, error=AutoReconnect('cluster0-shard-00-00.c8ky6.mongodb.net:27017: [WinError 10054] An existing connection was forcibly closed by the remote host')>, <ServerDescription ('cluster0-shard-00-01.c8ky6.mongodb.net', 27017) server_type: Unknown, rtt: None, error=AutoReconnect('cluster0-shard-00-01.c8ky6.mongodb.net:27017: [WinError 10054] An existing connection was forcibly closed by the remote host')>, <ServerDescription ('cluster0-shard-00-02.c8ky6.mongodb.net', 27017) server_type: Unknown, rtt: None, error=AutoReconnect('connection closed')>]>"
     ]
    }
   ],
   "source": [
    "import pymongo\n",
    "\n",
    "USR='iNeuron_Test'\n",
    "\n",
    "PWD='Your_Password'\n",
    "\n",
    "DB_NAME='INeuron_AI'\n",
    "\n",
    "#connection URL\n",
    "\n",
    "CONNECTION_URL=f\"mongodb+srv://bhaswati:12345>@cluster0.c8ky6.mongodb.net/test?retryWrites=true&w=majority\"\n",
    "\n",
    "#establish a connection with mongoDB\n",
    "\n",
    "client=pymongo.MongoClient(CONNECTION_URL)\n",
    "\n",
    "#create a DB\n",
    "\n",
    "database=client[DB_NAME]\n",
    "\n",
    "#create a COLLECTION NAME\n",
    "\n",
    "COLLECTION_NAME='Ineuron_Product'\n",
    "collection=database[COLLECTION_NAME]\n",
    "\n",
    "#create a list of records\n",
    "\n",
    "list_of_records=[\n",
    "    {'companyName':'Ineuron'},\n",
    "    {'product':'Affordable AI'},\n",
    "    {'courseoffered':'Machine learning with deployment'},\n",
    "    \n",
    "    {'companyName':'Ineuron'},\n",
    "    {'product':'Affordable AI'},\n",
    "    {'courseoffered':'Deep learning for NLP and computer vision'},\n",
    "    \n",
    "    {'companyName':'Ineuron'},\n",
    "    {'product':'Affordable AI'},\n",
    "    {'courseoffered':'Datascience masters program'}\n",
    "]\n",
    "\n",
    "rec=collection.insert_many(list_of_records)\n",
    "\n",
    "all_record=collection.find()\n",
    "\n",
    "for idx, record in enumerate(all_record):\n",
    "    print(f\"{idx:record}\")"
   ]
  },
  {
   "cell_type": "code",
   "execution_count": 38,
   "id": "b598e599",
   "metadata": {},
   "outputs": [
    {
     "data": {
      "text/plain": [
       "Database(MongoClient(host=['cluster0-shard-00-02.c8ky6.mongodb.net:27017', 'cluster0-shard-00-00.c8ky6.mongodb.net:27017', 'cluster0-shard-00-01.c8ky6.mongodb.net:27017'], document_class=dict, tz_aware=False, connect=True, retrywrites=True, w='majority', authsource='admin', replicaset='atlas-guykgu-shard-0', ssl=True), 'bhas')"
      ]
     },
     "execution_count": 38,
     "metadata": {},
     "output_type": "execute_result"
    }
   ],
   "source": [
    "DEFAULT_CONNECTION_URL=f\"mongodb+srv://bhaswati:12345>@cluster0.c8ky6.mongodb.net/test?retryWrites=true&w=majority\"\n",
    "DB_NAME='bhas'\n",
    "\n",
    "client=pymongo.MongoClient(DEFAULT_CONNECTION_URL)\n",
    "\n",
    "database=client['bhas']\n",
    "database"
   ]
  },
  {
   "cell_type": "code",
   "execution_count": null,
   "id": "cd794260",
   "metadata": {},
   "outputs": [],
   "source": []
  }
 ],
 "metadata": {
  "kernelspec": {
   "display_name": "Python 3",
   "language": "python",
   "name": "python3"
  },
  "language_info": {
   "codemirror_mode": {
    "name": "ipython",
    "version": 3
   },
   "file_extension": ".py",
   "mimetype": "text/x-python",
   "name": "python",
   "nbconvert_exporter": "python",
   "pygments_lexer": "ipython3",
   "version": "3.8.8"
  }
 },
 "nbformat": 4,
 "nbformat_minor": 5
}
