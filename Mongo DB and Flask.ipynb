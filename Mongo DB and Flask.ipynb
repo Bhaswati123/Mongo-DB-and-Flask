{
 "cells": [
  {
   "cell_type": "code",
   "execution_count": 1,
   "id": "c89c51cc",
   "metadata": {},
   "outputs": [],
   "source": [
    "#MongoDB is a no sql database.\n",
    "\n",
    "#MongoDB Installation:\n",
    "\n",
    "#Json is a collection of key : value pairs.\n",
    "\n",
    "#MongoDB is equal to Json.\n",
    "#MongoDB is a database server.It has many databases. Here tables are called as collections.\n",
    "#Inside collections, we have records/documents(1 set of data).\n",
    "#Records/Documents are called as key: value pair."
   ]
  },
  {
   "cell_type": "code",
   "execution_count": 2,
   "id": "67146541",
   "metadata": {},
   "outputs": [
    {
     "name": "stdout",
     "output_type": "stream",
     "text": [
      "Requirement already satisfied: pymongo in c:\\users\\bhaswatimayee.sahu\\anaconda3\\lib\\site-packages (3.12.0)\n"
     ]
    }
   ],
   "source": [
    "!pip install pymongo"
   ]
  },
  {
   "cell_type": "code",
   "execution_count": 3,
   "id": "849e0e34",
   "metadata": {},
   "outputs": [],
   "source": [
    "import pymongo\n",
    "myclient=pymongo.MongoClient(\"mongodb://localhost:27017/\")"
   ]
  },
  {
   "cell_type": "code",
   "execution_count": 4,
   "id": "2fc3a51f",
   "metadata": {},
   "outputs": [],
   "source": [
    "mydb=myclient[\"demoDB\"]"
   ]
  },
  {
   "cell_type": "code",
   "execution_count": 5,
   "id": "478967b1",
   "metadata": {},
   "outputs": [],
   "source": [
    "collection=mydb.mongo_demo\n",
    "collection_name='mongo_demo'"
   ]
  },
  {
   "cell_type": "code",
   "execution_count": 6,
   "id": "f9f62a95",
   "metadata": {},
   "outputs": [],
   "source": [
    "#inserting the row into the collection\n",
    "\n",
    "my_row={'Serial No':'9998',\n",
    "       'GRE score':'337',\n",
    "       'TOEFL score':'118',\n",
    "       'University Rating':'4',\n",
    "       'SOP':'4.5',\n",
    "       'LOR':'4.5',\n",
    "       'CGPA':'9.65',\n",
    "       'Research':'1',\n",
    "       'Chance of Admit':'0.92'}\n",
    "\n",
    "#creating key value pairs for inserting into database"
   ]
  },
  {
   "cell_type": "code",
   "execution_count": 7,
   "id": "659ff139",
   "metadata": {},
   "outputs": [
    {
     "data": {
      "text/plain": [
       "<pymongo.results.InsertOneResult at 0x6bd0908>"
      ]
     },
     "execution_count": 7,
     "metadata": {},
     "output_type": "execute_result"
    }
   ],
   "source": [
    "collection.insert_one(my_row)"
   ]
  },
  {
   "cell_type": "code",
   "execution_count": 8,
   "id": "54c9f285",
   "metadata": {},
   "outputs": [
    {
     "name": "stdout",
     "output_type": "stream",
     "text": [
      "['admin', 'config', 'demoDB', 'local']\n"
     ]
    }
   ],
   "source": [
    "print(myclient.list_database_names())"
   ]
  },
  {
   "cell_type": "code",
   "execution_count": 9,
   "id": "f20557fc",
   "metadata": {},
   "outputs": [
    {
     "name": "stdout",
     "output_type": "stream",
     "text": [
      "Database exists\n"
     ]
    }
   ],
   "source": [
    "#check if database exists in mongodb\n",
    "\n",
    "dblist=myclient.list_database_names()\n",
    "db_name='demoDB'\n",
    "\n",
    "if dblist.index(db_name)==-1:\n",
    "    print('Database doesnt exist')\n",
    "else:\n",
    "    print('Database exists')"
   ]
  },
  {
   "cell_type": "code",
   "execution_count": 10,
   "id": "6ec58266",
   "metadata": {},
   "outputs": [
    {
     "ename": "ValueError",
     "evalue": "'xyz' is not in list",
     "output_type": "error",
     "traceback": [
      "\u001b[1;31m---------------------------------------------------------------------------\u001b[0m",
      "\u001b[1;31mValueError\u001b[0m                                Traceback (most recent call last)",
      "\u001b[1;32m<ipython-input-10-552f9b32d645>\u001b[0m in \u001b[0;36m<module>\u001b[1;34m\u001b[0m\n\u001b[0;32m      2\u001b[0m \u001b[0mdb_name\u001b[0m\u001b[1;33m=\u001b[0m\u001b[1;34m'xyz'\u001b[0m\u001b[1;33m\u001b[0m\u001b[1;33m\u001b[0m\u001b[0m\n\u001b[0;32m      3\u001b[0m \u001b[1;33m\u001b[0m\u001b[0m\n\u001b[1;32m----> 4\u001b[1;33m \u001b[1;32mif\u001b[0m \u001b[0mdblist\u001b[0m\u001b[1;33m.\u001b[0m\u001b[0mindex\u001b[0m\u001b[1;33m(\u001b[0m\u001b[0mdb_name\u001b[0m\u001b[1;33m)\u001b[0m\u001b[1;33m==\u001b[0m\u001b[1;33m-\u001b[0m\u001b[1;36m1\u001b[0m\u001b[1;33m:\u001b[0m\u001b[1;33m\u001b[0m\u001b[1;33m\u001b[0m\u001b[0m\n\u001b[0m\u001b[0;32m      5\u001b[0m     \u001b[0mprint\u001b[0m\u001b[1;33m(\u001b[0m\u001b[1;34m'Database doesnt exist'\u001b[0m\u001b[1;33m)\u001b[0m\u001b[1;33m\u001b[0m\u001b[1;33m\u001b[0m\u001b[0m\n\u001b[0;32m      6\u001b[0m \u001b[1;32melse\u001b[0m\u001b[1;33m:\u001b[0m\u001b[1;33m\u001b[0m\u001b[1;33m\u001b[0m\u001b[0m\n",
      "\u001b[1;31mValueError\u001b[0m: 'xyz' is not in list"
     ]
    }
   ],
   "source": [
    "dblist=myclient.list_database_names()\n",
    "db_name='xyz'\n",
    "\n",
    "if dblist.index(db_name)==-1:\n",
    "    print('Database doesnt exist')\n",
    "else:\n",
    "    print('Database exist')"
   ]
  },
  {
   "cell_type": "code",
   "execution_count": 11,
   "id": "881d70bb",
   "metadata": {},
   "outputs": [
    {
     "name": "stdout",
     "output_type": "stream",
     "text": [
      "Collection exists\n"
     ]
    }
   ],
   "source": [
    "#check if collection exists or not\n",
    "\n",
    "if collection_name in mydb.list_collection_names():\n",
    "    print('Collection exists')\n",
    "else:\n",
    "    print('Collection doesnt exist')"
   ]
  },
  {
   "cell_type": "code",
   "execution_count": 12,
   "id": "afb6774d",
   "metadata": {},
   "outputs": [
    {
     "name": "stdout",
     "output_type": "stream",
     "text": [
      "Collection(Database(MongoClient(host=['localhost:27017'], document_class=dict, tz_aware=False, connect=True), 'demoDB'), 'mongo_demo.inserted_id')\n"
     ]
    }
   ],
   "source": [
    "#printing the unique id for insert\n",
    "\n",
    "print(collection.inserted_id)"
   ]
  },
  {
   "cell_type": "code",
   "execution_count": 14,
   "id": "d705a41f",
   "metadata": {},
   "outputs": [],
   "source": [
    "#inserting multiple rows at once\n",
    "\n",
    "my_rows=[{'Serial No':'9998',\n",
    "       'GRE score':'337',\n",
    "       'TOEFL score':'118',\n",
    "       'University Rating':'4',\n",
    "       'SOP':'4.5',\n",
    "       'LOR':'4.5',\n",
    "       'CGPA':'9.65',\n",
    "       'Research':'1',\n",
    "       'Chance of Admit':'0.92'},\n",
    "        {'Serial No':'9997',\n",
    "       'GRE score':'337',\n",
    "       'TOEFL score':'118',\n",
    "       'University Rating':'4',\n",
    "       'SOP':'4.5',\n",
    "       'LOR':'4.5',\n",
    "       'CGPA':'9.65',\n",
    "       'Research':'1',\n",
    "       'Chance of Admit':'0.92'},\n",
    "        {'Serial No':'9996',\n",
    "       'GRE score':'337',\n",
    "       'TOEFL score':'118',\n",
    "       'University Rating':'4',\n",
    "       'SOP':'4.5',\n",
    "       'LOR':'4.5',\n",
    "       'CGPA':'9.65',\n",
    "       'Research':'1',\n",
    "       'Chance of Admit':'0.92'}]"
   ]
  },
  {
   "cell_type": "code",
   "execution_count": 15,
   "id": "8193ebef",
   "metadata": {},
   "outputs": [
    {
     "data": {
      "text/plain": [
       "<pymongo.results.InsertManyResult at 0x7065068>"
      ]
     },
     "execution_count": 15,
     "metadata": {},
     "output_type": "execute_result"
    }
   ],
   "source": [
    "#inserting records into collection\n",
    "\n",
    "collection.insert_many(my_rows)"
   ]
  },
  {
   "cell_type": "code",
   "execution_count": 16,
   "id": "87cc7c05",
   "metadata": {},
   "outputs": [
    {
     "name": "stdout",
     "output_type": "stream",
     "text": [
      "Collection(Database(MongoClient(host=['localhost:27017'], document_class=dict, tz_aware=False, connect=True), 'demoDB'), 'mongo_demo.inserted_ids')\n"
     ]
    }
   ],
   "source": [
    "#printing unique id for insert\n",
    "\n",
    "print(collection.inserted_ids)\n"
   ]
  },
  {
   "cell_type": "code",
   "execution_count": 18,
   "id": "1e4138af",
   "metadata": {},
   "outputs": [
    {
     "data": {
      "text/plain": [
       "{'_id': ObjectId('61042f6e6fb964334acbaed8'),\n",
       " 'Serial No': '9998',\n",
       " 'GRE score': '337',\n",
       " 'TOEFL score': '118',\n",
       " 'University Rating': '4',\n",
       " 'SOP': '4.5',\n",
       " 'LOR': '4.5',\n",
       " 'CGPA': '9.65',\n",
       " 'Research': '1',\n",
       " 'Chance of Admit': '0.92'}"
      ]
     },
     "execution_count": 18,
     "metadata": {},
     "output_type": "execute_result"
    }
   ],
   "source": [
    "#retrieving all the records from collection\n",
    "\n",
    "result=collection.find({})\n",
    "result[3]   #printing 3rd record"
   ]
  },
  {
   "cell_type": "code",
   "execution_count": 17,
   "id": "1e269bca",
   "metadata": {},
   "outputs": [
    {
     "name": "stdout",
     "output_type": "stream",
     "text": [
      "{'_id': ObjectId('61040b4434b4e66318f03e7c'), 'Serial No': '9998', 'GRE score': '337', 'TOEFL score': '118', 'University Rating': '4', 'SOP': '4.5', 'LOR': '4.5', 'CGPA': '9.65', 'Research': '1', 'Chance of Admit': '0.92'}\n",
      "{'_id': ObjectId('61040d3434b4e66318f03e7e'), 'Serial No': '9998', 'GRE score': '337', 'TOEFL score': '118', 'University Rating': '4', 'SOP': '4.5', 'LOR': '4.5', 'CGPA': '9.65', 'Research': '1', 'Chance of Admit': '0.92'}\n",
      "{'_id': ObjectId('61040d9d34b4e66318f03e80'), 'Serial No': '9998', 'GRE score': '337', 'TOEFL score': '118', 'University Rating': '4', 'SOP': '4.5', 'LOR': '4.5', 'CGPA': '9.65', 'Research': '1', 'Chance of Admit': '0.92'}\n",
      "{'_id': ObjectId('61042f6e6fb964334acbaed8'), 'Serial No': '9998', 'GRE score': '337', 'TOEFL score': '118', 'University Rating': '4', 'SOP': '4.5', 'LOR': '4.5', 'CGPA': '9.65', 'Research': '1', 'Chance of Admit': '0.92'}\n",
      "{'_id': ObjectId('610430866fb964334acbaed9'), 'Serial No': '9998', 'GRE score': '337', 'TOEFL score': '118', 'University Rating': '4', 'SOP': '4.5', 'LOR': '4.5', 'CGPA': '9.65', 'Research': '1', 'Chance of Admit': '0.92'}\n"
     ]
    }
   ],
   "source": [
    "#print only 5 records\n",
    "\n",
    "result_total=collection.find({}).limit(5)\n",
    "for res in result_total:\n",
    "    print(res)"
   ]
  },
  {
   "cell_type": "code",
   "execution_count": 19,
   "id": "8b23edfd",
   "metadata": {},
   "outputs": [
    {
     "name": "stdout",
     "output_type": "stream",
     "text": [
      "{'_id': ObjectId('61040b4434b4e66318f03e7c'), 'GRE score': '337', 'TOEFL score': '118'}\n",
      "{'_id': ObjectId('61040d3434b4e66318f03e7e'), 'GRE score': '337', 'TOEFL score': '118'}\n",
      "{'_id': ObjectId('61040d9d34b4e66318f03e80'), 'GRE score': '337', 'TOEFL score': '118'}\n",
      "{'_id': ObjectId('61042f6e6fb964334acbaed8'), 'GRE score': '337', 'TOEFL score': '118'}\n",
      "{'_id': ObjectId('610430866fb964334acbaed9'), 'GRE score': '337', 'TOEFL score': '118'}\n",
      "{'_id': ObjectId('610430866fb964334acbaeda'), 'GRE score': '337', 'TOEFL score': '118'}\n",
      "{'_id': ObjectId('610430866fb964334acbaedb'), 'GRE score': '337', 'TOEFL score': '118'}\n",
      "{'_id': ObjectId('61069bb7c3b6fe96bff533ab'), 'GRE score': '337', 'TOEFL score': '118'}\n",
      "{'_id': ObjectId('61069bd5c3b6fe96bff533ac'), 'GRE score': '337', 'TOEFL score': '118'}\n",
      "{'_id': ObjectId('61069bd5c3b6fe96bff533ad'), 'GRE score': '337', 'TOEFL score': '118'}\n",
      "{'_id': ObjectId('61069bd5c3b6fe96bff533ae'), 'GRE score': '337', 'TOEFL score': '118'}\n"
     ]
    }
   ],
   "source": [
    "#retrieving some columns\n",
    "\n",
    "result_some=collection.find({},{'GRE score','TOEFL score'}) #retrieving 2 columns\n",
    "#the second parameter in find() specifies which olumn to choose\n",
    "\n",
    "for res in result_some:\n",
    "    print(res)"
   ]
  },
  {
   "cell_type": "code",
   "execution_count": 20,
   "id": "7ca94569",
   "metadata": {},
   "outputs": [
    {
     "name": "stdout",
     "output_type": "stream",
     "text": [
      "{'_id': ObjectId('61040b4434b4e66318f03e7c'), 'GRE score': '337', 'TOEFL score': '118'}\n",
      "{'_id': ObjectId('61040d3434b4e66318f03e7e'), 'GRE score': '337', 'TOEFL score': '118'}\n",
      "{'_id': ObjectId('61040d9d34b4e66318f03e80'), 'GRE score': '337', 'TOEFL score': '118'}\n",
      "{'_id': ObjectId('61042f6e6fb964334acbaed8'), 'GRE score': '337', 'TOEFL score': '118'}\n",
      "{'_id': ObjectId('610430866fb964334acbaed9'), 'GRE score': '337', 'TOEFL score': '118'}\n"
     ]
    }
   ],
   "source": [
    "result_some=collection.find({},{'GRE score','TOEFL score'}).limit(5) #retrieving 2 columns\n",
    "#the second parameter in find() specifies which olumn to choose\n",
    "\n",
    "for res in result_some:\n",
    "    print(res)"
   ]
  },
  {
   "cell_type": "code",
   "execution_count": 21,
   "id": "07c92011",
   "metadata": {},
   "outputs": [
    {
     "name": "stdout",
     "output_type": "stream",
     "text": [
      "{'_id': ObjectId('61040b4434b4e66318f03e7c'), 'Serial No': '9998', 'GRE score': '337', 'TOEFL score': '118', 'University Rating': '4', 'SOP': '4.5', 'LOR': '4.5', 'CGPA': '9.65', 'Research': '1', 'Chance of Admit': '0.92'}\n",
      "{'_id': ObjectId('61040d3434b4e66318f03e7e'), 'Serial No': '9998', 'GRE score': '337', 'TOEFL score': '118', 'University Rating': '4', 'SOP': '4.5', 'LOR': '4.5', 'CGPA': '9.65', 'Research': '1', 'Chance of Admit': '0.92'}\n",
      "{'_id': ObjectId('61040d9d34b4e66318f03e80'), 'Serial No': '9998', 'GRE score': '337', 'TOEFL score': '118', 'University Rating': '4', 'SOP': '4.5', 'LOR': '4.5', 'CGPA': '9.65', 'Research': '1', 'Chance of Admit': '0.92'}\n",
      "{'_id': ObjectId('61042f6e6fb964334acbaed8'), 'Serial No': '9998', 'GRE score': '337', 'TOEFL score': '118', 'University Rating': '4', 'SOP': '4.5', 'LOR': '4.5', 'CGPA': '9.65', 'Research': '1', 'Chance of Admit': '0.92'}\n",
      "{'_id': ObjectId('610430866fb964334acbaed9'), 'Serial No': '9998', 'GRE score': '337', 'TOEFL score': '118', 'University Rating': '4', 'SOP': '4.5', 'LOR': '4.5', 'CGPA': '9.65', 'Research': '1', 'Chance of Admit': '0.92'}\n",
      "{'_id': ObjectId('610430866fb964334acbaeda'), 'Serial No': '9997', 'GRE score': '337', 'TOEFL score': '118', 'University Rating': '4', 'SOP': '4.5', 'LOR': '4.5', 'CGPA': '9.65', 'Research': '1', 'Chance of Admit': '0.92'}\n",
      "{'_id': ObjectId('610430866fb964334acbaedb'), 'Serial No': '9996', 'GRE score': '337', 'TOEFL score': '118', 'University Rating': '4', 'SOP': '4.5', 'LOR': '4.5', 'CGPA': '9.65', 'Research': '1', 'Chance of Admit': '0.92'}\n",
      "{'_id': ObjectId('61069bb7c3b6fe96bff533ab'), 'Serial No': '9998', 'GRE score': '337', 'TOEFL score': '118', 'University Rating': '4', 'SOP': '4.5', 'LOR': '4.5', 'CGPA': '9.65', 'Research': '1', 'Chance of Admit': '0.92'}\n",
      "{'_id': ObjectId('61069bd5c3b6fe96bff533ac'), 'Serial No': '9998', 'GRE score': '337', 'TOEFL score': '118', 'University Rating': '4', 'SOP': '4.5', 'LOR': '4.5', 'CGPA': '9.65', 'Research': '1', 'Chance of Admit': '0.92'}\n",
      "{'_id': ObjectId('61069bd5c3b6fe96bff533ad'), 'Serial No': '9997', 'GRE score': '337', 'TOEFL score': '118', 'University Rating': '4', 'SOP': '4.5', 'LOR': '4.5', 'CGPA': '9.65', 'Research': '1', 'Chance of Admit': '0.92'}\n",
      "{'_id': ObjectId('61069bd5c3b6fe96bff533ae'), 'Serial No': '9996', 'GRE score': '337', 'TOEFL score': '118', 'University Rating': '4', 'SOP': '4.5', 'LOR': '4.5', 'CGPA': '9.65', 'Research': '1', 'Chance of Admit': '0.92'}\n"
     ]
    }
   ],
   "source": [
    "#finding the rows satisfying a given criteria\n",
    "\n",
    "my_db_query={'GRE score':'337'}\n",
    "\n",
    "#printing all the ros where GRE score is 337\n",
    "\n",
    "result_GRE=collection.find(my_db_query)\n",
    "for res in result_GRE:\n",
    "    print(res)"
   ]
  },
  {
   "cell_type": "code",
   "execution_count": 22,
   "id": "05e1b3aa",
   "metadata": {},
   "outputs": [],
   "source": [
    "#$gt for greater than. \n",
    "\n",
    "my_db_query={'GRE score':{'$gt':337}}\n",
    "result_GRE=collection.find(my_db_query)\n",
    "for res in result_GRE:\n",
    "    print(res)"
   ]
  },
  {
   "cell_type": "code",
   "execution_count": 23,
   "id": "a9e4bfaa",
   "metadata": {},
   "outputs": [],
   "source": [
    "#$lt for less than. \n",
    "\n",
    "my_db_query={'GRE score':{'$lt':'337'}}\n",
    "result_GRE=collection.find(my_db_query)\n",
    "for res in result_GRE:\n",
    "    print(res)"
   ]
  },
  {
   "cell_type": "code",
   "execution_count": 24,
   "id": "41f753f4",
   "metadata": {},
   "outputs": [],
   "source": [
    "#sorting in ascending order\n",
    "\n",
    "result_GRE=collection.find(my_db_query).sort('GRE score')\n",
    "for res in result_GRE:\n",
    "    print(res)"
   ]
  },
  {
   "cell_type": "code",
   "execution_count": 25,
   "id": "3fe552b5",
   "metadata": {},
   "outputs": [],
   "source": [
    "#sorting in descending order\n",
    "\n",
    "result_GRE=collection.find(my_db_query).sort('GRE score',-1)\n",
    "for res in result_GRE:\n",
    "    print(res)"
   ]
  },
  {
   "cell_type": "code",
   "execution_count": 27,
   "id": "bdebfd6c",
   "metadata": {},
   "outputs": [
    {
     "name": "stdout",
     "output_type": "stream",
     "text": [
      "1\n"
     ]
    }
   ],
   "source": [
    "#Deleting records from mongoDB\n",
    "\n",
    "my_db_query={'GRE score':'337'}\n",
    "x=collection.delete_one(my_db_query)\n",
    "print(x.deleted_count)"
   ]
  },
  {
   "cell_type": "code",
   "execution_count": null,
   "id": "8694dde8",
   "metadata": {},
   "outputs": [],
   "source": [
    "# we have successfully deleted one row/record from the collection.\n",
    "\n",
    "#for deleting multiple rows, we can use collection.delete_many(my_db_query)\n",
    "\n",
    "#for deleting all documents of a collection, we can use collection.delete_many({})"
   ]
  },
  {
   "cell_type": "code",
   "execution_count": 30,
   "id": "7f9514fa",
   "metadata": {},
   "outputs": [],
   "source": [
    "#for dropping an entire collection\n",
    "\n",
    "collection_to_drop=mydb['test_collection']  #drops entire collection named 'test collection'\n",
    "collection_to_drop.drop()"
   ]
  },
  {
   "cell_type": "code",
   "execution_count": 31,
   "id": "1fea245d",
   "metadata": {},
   "outputs": [
    {
     "name": "stdout",
     "output_type": "stream",
     "text": [
      "0\n"
     ]
    }
   ],
   "source": [
    "#updating the values present in collection\n",
    "\n",
    "update_criteria={'GRE score':'340'}\n",
    "new_values={'$set':{'GRE score':'350'}}\n",
    "x=collection.update_many(update_criteria,new_values)\n",
    "print(x.modified_count)"
   ]
  },
  {
   "cell_type": "code",
   "execution_count": null,
   "id": "d74bcece",
   "metadata": {},
   "outputs": [],
   "source": [
    "#we have updated 9 columns with GRE score 340 with GRE score 350.\n",
    "\n",
    "#similarly, we can update only one row by using the function update_one(update_criteria,new_values) "
   ]
  },
  {
   "cell_type": "code",
   "execution_count": null,
   "id": "5e2f5faf",
   "metadata": {},
   "outputs": [],
   "source": [
    "#Why do we user API?\n",
    "\n",
    "#For making the functionalities language independent, we use APIs.\n",
    "\n",
    "#API means Application Programming Interface, which essentially a gateway that allows two applications/softwares to talk to each other.\n",
    "\n",
    "#In simple words, it helps two applications/softwares to communicate.\n",
    "\n",
    "#WSDL: web service description language.\n",
    "\n",
    "\n"
   ]
  },
  {
   "cell_type": "markdown",
   "id": "d42a9504",
   "metadata": {},
   "source": [
    "Flask:\n",
    "\n",
    "Flask is web application development framework (WADF).\n",
    "\n",
    "Development framework means it consists of many libraries or collection of methods.\n",
    "\n",
    "1.GUI\n",
    "2.Rest API"
   ]
  },
  {
   "cell_type": "code",
   "execution_count": 33,
   "id": "95b8c1da",
   "metadata": {},
   "outputs": [
    {
     "name": "stdout",
     "output_type": "stream",
     "text": [
      "Requirement already satisfied: flask in c:\\users\\bhaswatimayee.sahu\\anaconda3\\lib\\site-packages (1.1.2)\n",
      "Requirement already satisfied: click>=5.1 in c:\\users\\bhaswatimayee.sahu\\anaconda3\\lib\\site-packages (from flask) (7.1.2)\n",
      "Requirement already satisfied: Jinja2>=2.10.1 in c:\\users\\bhaswatimayee.sahu\\anaconda3\\lib\\site-packages (from flask) (2.11.3)\n",
      "Requirement already satisfied: Werkzeug>=0.15 in c:\\users\\bhaswatimayee.sahu\\anaconda3\\lib\\site-packages (from flask) (1.0.1)\n",
      "Requirement already satisfied: itsdangerous>=0.24 in c:\\users\\bhaswatimayee.sahu\\anaconda3\\lib\\site-packages (from flask) (1.1.0)\n",
      "Requirement already satisfied: MarkupSafe>=0.23 in c:\\users\\bhaswatimayee.sahu\\anaconda3\\lib\\site-packages (from Jinja2>=2.10.1->flask) (1.1.1)\n"
     ]
    }
   ],
   "source": [
    "#Install flask\n",
    "\n",
    "!pip install flask"
   ]
  },
  {
   "cell_type": "markdown",
   "id": "958fb921",
   "metadata": {},
   "source": [
    "Web Application Development Framework\n",
    "\n",
    "Framework: A framework is a collection of libraries.\n",
    "Libraries: COllection of different methods and functions.\n",
    "Flask: Flask is a web application development framework. It is supported by python.\n",
    "\n",
    "Environment: Its a space for storing libraries.\n",
    "\n",
    "If we have one environment we can see conflict between library version as a result several applications wont function simultaneously.\n",
    "\n",
    "There are several http standard methods: \n",
    "Add: POST (send a new information to API)\n",
    "Search: GET (Retrieve some info from application)\n",
    "Update: PUT (Update an existing resource)\n",
    "Delete: DELETE\n",
    "\n",
    "request.json: Request that is coming to our API should be a json format request {key:value} pair."
   ]
  },
  {
   "cell_type": "code",
   "execution_count": null,
   "id": "86afc94f",
   "metadata": {},
   "outputs": [],
   "source": []
  }
 ],
 "metadata": {
  "kernelspec": {
   "display_name": "Python 3",
   "language": "python",
   "name": "python3"
  },
  "language_info": {
   "codemirror_mode": {
    "name": "ipython",
    "version": 3
   },
   "file_extension": ".py",
   "mimetype": "text/x-python",
   "name": "python",
   "nbconvert_exporter": "python",
   "pygments_lexer": "ipython3",
   "version": "3.8.8"
  }
 },
 "nbformat": 4,
 "nbformat_minor": 5
}
